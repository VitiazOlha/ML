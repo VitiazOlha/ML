{
 "cells": [
  {
   "cell_type": "markdown",
   "metadata": {},
   "source": [
    "# K-means"
   ]
  },
  {
   "cell_type": "code",
   "execution_count": 52,
   "metadata": {
    "collapsed": true
   },
   "outputs": [],
   "source": [
    "# necessary imports\n",
    "%matplotlib inline\n",
    "import matplotlib.pyplot as plt\n",
    "import numpy as np"
   ]
  },
  {
   "cell_type": "markdown",
   "metadata": {},
   "source": [
    "### Generate data"
   ]
  },
  {
   "cell_type": "code",
   "execution_count": 53,
   "metadata": {
    "collapsed": true
   },
   "outputs": [],
   "source": [
    "# Generate Data\n",
    "points = np.vstack(((np.random.randn(150, 2) * 0.75 + np.array([1, 0])),\n",
    "              (np.random.randn(50, 2) * 0.25 + np.array([-0.5, 0.5])),\n",
    "              (np.random.randn(50, 2) * 0.5 + np.array([-0.5, -0.5]))))"
   ]
  },
  {
   "cell_type": "markdown",
   "metadata": {},
   "source": [
    "### Main functions"
   ]
  },
  {
   "cell_type": "code",
   "execution_count": 54,
   "metadata": {
    "collapsed": true
   },
   "outputs": [],
   "source": [
    "def initialize_centroids(points, k):\n",
    "    '''\n",
    "        Selects k random points as initial\n",
    "        points from dataset\n",
    "    '''\n",
    "    centroids = points.copy()\n",
    "    np.random.shuffle(centroids)\n",
    "    return centroids[:k]"
   ]
  },
  {
   "cell_type": "code",
   "execution_count": 55,
   "metadata": {
    "collapsed": true
   },
   "outputs": [],
   "source": [
    "def closest_centroid(points, centroids):\n",
    "    '''\n",
    "        Returns an array containing the index to the nearest centroid for each point\n",
    "    '''\n",
    "    distances = np.sqrt(((points - centroids[:, np.newaxis])**2).sum(axis=2))\n",
    "    return np.argmin(distances, axis=0)"
   ]
  },
  {
   "cell_type": "code",
   "execution_count": 56,
   "metadata": {
    "collapsed": true
   },
   "outputs": [],
   "source": [
    "def move_centroids(points, closest, centroids):\n",
    "    '''\n",
    "        Returns the new centroids assigned from the points closest to them\n",
    "    '''\n",
    "    return np.array([points[closest==k].mean(axis=0) for k in range(centroids.shape[0])])\n",
    "    "
   ]
  },
  {
   "cell_type": "code",
   "execution_count": 79,
   "metadata": {
    "collapsed": true
   },
   "outputs": [],
   "source": [
    "def log_msg(centroids, num_iterations):\n",
    "    print(\n",
    "        'Iteration {1}\\nСoordinates of centroids: \\n{0}'.format(\n",
    "            centroids, num_iterations\n",
    "        )\n",
    "    )"
   ]
  },
  {
   "cell_type": "code",
   "execution_count": 91,
   "metadata": {
    "collapsed": true
   },
   "outputs": [],
   "source": [
    "def print_plot(points, centroids, plot_num):\n",
    "    plt.subplot(plot_num)\n",
    "    plt.scatter(points[:, 0], points[:, 1], c='coral')\n",
    "    y = range(len(centroids))\n",
    "    plt.scatter(centroids[:, 0], centroids[:, 1], c=y, s=100)\n",
    "    ax = plt.gca()"
   ]
  },
  {
   "cell_type": "code",
   "execution_count": 92,
   "metadata": {
    "collapsed": true
   },
   "outputs": [],
   "source": [
    "def main(points):\n",
    "    num_iterations = 0\n",
    "    k = 4\n",
    "        \n",
    "    # Initialize centroids\n",
    "    centroids = initialize_centroids(points, k)\n",
    "    log_msg(centroids, num_iterations)\n",
    "    print_plot(points, centroids, \"121\")\n",
    "    # Run iterative process\n",
    "    while True:\n",
    "        closest = closest_centroid(points, centroids)\n",
    "        centroids_new = move_centroids(points, closest, centroids)\n",
    "        if np.array_equal(centroids_new, centroids):\n",
    "            log_msg(centroids, num_iterations)\n",
    "            print_plot(points, centroids,\"122\")\n",
    "            return centroids\n",
    "        centroids = centroids_new\n",
    "        num_iterations += 1"
   ]
  },
  {
   "cell_type": "code",
   "execution_count": 93,
   "metadata": {},
   "outputs": [
    {
     "name": "stdout",
     "output_type": "stream",
     "text": [
      "Iteration 0\n",
      "Сoordinates of centroids: \n",
      "[[ 0.26522615 -0.20957976]\n",
      " [ 0.51923224  0.05961294]\n",
      " [ 0.26274478 -0.54440975]\n",
      " [-0.73669469  0.84635657]]\n",
      "Iteration 15\n",
      "Сoordinates of centroids: \n",
      "[[-0.07626551 -0.61857614]\n",
      " [ 1.24577778  0.80073578]\n",
      " [ 1.4028899  -0.50526767]\n",
      " [-0.56142125  0.38177477]]\n"
     ]
    },
    {
     "data": {
      "image/png": "[encoded data removed]",
      "text/plain": [
       "<matplotlib.figure.Figure at 0x7f0569e95470>"
      ]
     },
     "metadata": {},
     "output_type": "display_data"
    }
   ],
   "source": [
    "centroids = main(points)"
   ]
  },
  {
   "cell_type": "code",
   "execution_count": null,
   "metadata": {
    "collapsed": true
   },
   "outputs": [],
   "source": []
  }
 ],
 "metadata": {
  "kernelspec": {
   "display_name": "Python 3",
   "language": "python",
   "name": "python3"
  },
  "language_info": {
   "codemirror_mode": {
    "name": "ipython",
    "version": 3
   },
   "file_extension": ".py",
   "mimetype": "text/x-python",
   "name": "python",
   "nbconvert_exporter": "python",
   "pygments_lexer": "ipython3",
   "version": "3.6.2"
  }
 },
 "nbformat": 4,
 "nbformat_minor": 2
}
