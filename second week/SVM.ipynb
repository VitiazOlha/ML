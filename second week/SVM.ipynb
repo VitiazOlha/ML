{
 "cells": [
  {
   "cell_type": "code",
   "execution_count": 1,
   "metadata": {
    "collapsed": true
   },
   "outputs": [],
   "source": [
    "%matplotlib inline\n",
    "import svm\n",
    "import numpy as np\n",
    "import matplotlib.pyplot as plt\n",
    "import matplotlib.cm as cm\n",
    "import itertools"
   ]
  },
  {
   "cell_type": "code",
   "execution_count": 2,
   "metadata": {
    "collapsed": true
   },
   "outputs": [],
   "source": [
    "num_samples=10\n",
    "num_features=2\n",
    "samples = np.array(np.random.normal(size=num_samples * num_features)\n",
    "                        .reshape(num_samples, num_features))"
   ]
  },
  {
   "cell_type": "code",
   "execution_count": 3,
   "metadata": {
    "collapsed": true
   },
   "outputs": [],
   "source": [
    "def make_meshgrid(x, y, h=0.02):\n",
    "    \"\"\"Create a mesh of points to plot in\n",
    "\n",
    "    Parameters\n",
    "    ----------\n",
    "    x: data to base x-axis meshgrid on\n",
    "    y: data to base y-axis meshgrid on\n",
    "    h: stepsize for meshgrid, optional\n",
    "\n",
    "    Returns\n",
    "    -------\n",
    "    xx, yy : ndarray\n",
    "    \"\"\"\n",
    "    x_min, x_max = x.min() - 1, x.max() + 1\n",
    "    y_min, y_max = y.min() - 1, y.max() + 1\n",
    "    xx, yy = np.meshgrid(np.arange(x_min, x_max, h),\n",
    "                         np.arange(y_min, y_max, h))\n",
    "    return xx, yy\n",
    "\n",
    "\n",
    "def plot_contours(ax, clf, xx, yy, **params):\n",
    "    \"\"\"Plot the decision boundaries for a classifier.\n",
    "\n",
    "    Parameters\n",
    "    ----------\n",
    "    ax: matplotlib axes object\n",
    "    clf: a classifier\n",
    "    xx: meshgrid ndarray\n",
    "    yy: meshgrid ndarray\n",
    "    params: dictionary of params to pass to contourf, optional\n",
    "    \"\"\"\n",
    "    result = []\n",
    "    \n",
    "    for (i, j) in itertools.product(range(len(xx)), range(len(xx[0]))):\n",
    "        point = np.array([xx[i, j], yy[i, j]]).reshape(1, 2)\n",
    "        result.append(predictor.predict(point))\n",
    "\n",
    "    Z = np.array(result).reshape(xx.shape)\n",
    "    \n",
    "#     Z = np.c_[xx.ravel(), yy.ravel()]\n",
    "#     Z = clf.predict(Z)\n",
    "#     Z = Z.reshape(xx.shape)\n",
    "    out = ax.contourf(xx, yy, Z, **params)\n",
    "    return out\n",
    "\n",
    "def plt_all(predictor, X, y):\n",
    "    # we create an instance of SVM and fit out data. We do not scale our\n",
    "    # data since we want to plot the support vectors\n",
    "    C = 1.0  # SVM regularization parameter\n",
    "\n",
    "    X0, X1 = X[:, 0], X[:, 1]\n",
    "    xx, yy = make_meshgrid(X0, X1)\n",
    "    \n",
    "    plot_contours(plt, predictor, xx, yy,\n",
    "                  cmap=plt.cm.coolwarm, \n",
    "                  alpha=0.8)\n",
    "    plt.scatter(X0, X1, c=y, cmap=plt.cm.coolwarm, s=20, edgecolors='k')\n",
    "    plt.show()"
   ]
  },
  {
   "cell_type": "code",
   "execution_count": 4,
   "metadata": {},
   "outputs": [
    {
     "name": "stdout",
     "output_type": "stream",
     "text": [
      "[[ -6.91308959e-01   1.75396496e+00]\n",
      " [ -1.55340521e-03  -3.91814302e-01]\n",
      " [  4.31000420e-03  -3.80928040e-01]\n",
      " [  7.69215305e-01   1.32384494e-01]\n",
      " [ -8.53746050e-01  -1.06084976e+00]\n",
      " [  3.27763484e-01  -1.13881280e+00]\n",
      " [  5.23865826e-01  -1.38791168e+00]\n",
      " [ -1.23361560e-01  -1.06177829e+00]\n",
      " [ -1.63739412e-02   1.18864279e+00]\n",
      " [  1.02577165e+00  -1.81682308e-01]]\n",
      "     pcost       dcost       gap    pres   dres\n",
      " 0: -2.3303e+00 -6.1228e+00  4e+00  2e-16  2e+00\n",
      " 1: -2.6820e+00 -2.9546e+00  3e-01  3e-16  2e-01\n",
      " 2: -2.8826e+00 -2.9514e+00  7e-02  4e-16  2e-02\n",
      " 3: -2.8867e+00 -2.8875e+00  8e-04  3e-16  2e-04\n",
      " 4: -2.8868e+00 -2.8868e+00  8e-06  2e-16  2e-06\n",
      " 5: -2.8868e+00 -2.8868e+00  8e-08  3e-16  2e-08\n",
      "Optimal solution found.\n"
     ]
    }
   ],
   "source": [
    "labels = 2 * (samples.sum(axis=1) > 0) - 1.0\n",
    "\n",
    "trainer = svm.SVMTrainer(svm.Kernel.gaussian(0.8))\n",
    "# trainer = svm.SVMTrainer(svm.Kernel.linear())\n",
    "predictor = trainer.train(samples, labels)"
   ]
  },
  {
   "cell_type": "code",
   "execution_count": 5,
   "metadata": {},
   "outputs": [
    {
     "data": {
      "image/png": "[encoded data removed]",
      "text/plain": [
       "<matplotlib.figure.Figure at 0x7fbfc697b518>"
      ]
     },
     "metadata": {},
     "output_type": "display_data"
    }
   ],
   "source": [
    "plt_all(predictor, samples, labels)"
   ]
  },
  {
   "cell_type": "code",
   "execution_count": 6,
   "metadata": {
    "scrolled": true
   },
   "outputs": [
    {
     "name": "stdout",
     "output_type": "stream",
     "text": [
      "[[ -6.91308959e-01   1.75396496e+00]\n",
      " [ -1.55340521e-03  -3.91814302e-01]\n",
      " [  4.31000420e-03  -3.80928040e-01]\n",
      " [  7.69215305e-01   1.32384494e-01]\n",
      " [ -8.53746050e-01  -1.06084976e+00]\n",
      " [  3.27763484e-01  -1.13881280e+00]\n",
      " [  5.23865826e-01  -1.38791168e+00]\n",
      " [ -1.23361560e-01  -1.06177829e+00]\n",
      " [ -1.63739412e-02   1.18864279e+00]\n",
      " [  1.02577165e+00  -1.81682308e-01]]\n",
      "     pcost       dcost       gap    pres   dres\n",
      " 0: -2.1822e+00 -4.8296e+00  2e+01  4e+00  2e+00\n",
      " 1: -1.9153e+00 -4.4971e+00  4e+00  3e-01  1e-01\n",
      " 2: -2.2983e+00 -2.5851e+00  3e-01  2e-03  8e-04\n",
      " 3: -2.4594e+00 -2.4973e+00  4e-02  2e-04  7e-05\n",
      " 4: -2.4889e+00 -2.4894e+00  5e-04  2e-06  9e-07\n",
      " 5: -2.4892e+00 -2.4893e+00  5e-06  2e-08  9e-09\n",
      " 6: -2.4893e+00 -2.4893e+00  5e-08  2e-10  9e-11\n",
      "Optimal solution found.\n"
     ]
    },
    {
     "data": {
      "image/png": "[encoded data removed]",
      "text/plain": [
       "<matplotlib.figure.Figure at 0x7fbfc697b908>"
      ]
     },
     "metadata": {},
     "output_type": "display_data"
    }
   ],
   "source": [
    "labels = 2 * (samples.sum(axis=1) > 0) - 1.0\n",
    "\n",
    "# trainer = svm.SVMTrainer(svm.Kernel.gaussian(0.5))\n",
    "trainer = svm.SVMTrainer(svm.Kernel.linear())\n",
    "predictor = trainer.train(samples, labels)\n",
    "\n",
    "plt_all(predictor, samples, labels)"
   ]
  },
  {
   "cell_type": "code",
   "execution_count": null,
   "metadata": {
    "collapsed": true
   },
   "outputs": [],
   "source": []
  }
 ],
 "metadata": {
  "kernelspec": {
   "display_name": "Python 3",
   "language": "python",
   "name": "python3"
  },
  "language_info": {
   "codemirror_mode": {
    "name": "ipython",
    "version": 3
   },
   "file_extension": ".py",
   "mimetype": "text/x-python",
   "name": "python",
   "nbconvert_exporter": "python",
   "pygments_lexer": "ipython3",
   "version": "3.6.2"
  }
 },
 "nbformat": 4,
 "nbformat_minor": 2
}
